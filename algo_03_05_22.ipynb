{
 "cells": [
  {
   "cell_type": "code",
   "execution_count": 1,
   "metadata": {},
   "outputs": [],
   "source": [
    "import calendar\n",
    "from datetime import timedelta\n",
    "from dateutil.relativedelta import relativedelta\n",
    "from pandas.tseries.offsets import BMonthEnd\n",
    "from pandas.tseries.offsets import BDay"
   ]
  },
  {
   "cell_type": "code",
   "execution_count": 2,
   "metadata": {},
   "outputs": [
    {
     "ename": "NameError",
     "evalue": "name 'QuantBook' is not defined",
     "output_type": "error",
     "traceback": [
      "\u001b[0;31m---------------------------------------------------------------------------\u001b[0m",
      "\u001b[0;31mNameError\u001b[0m                                 Traceback (most recent call last)",
      "\u001b[0;32m<ipython-input-2-b022023a0495>\u001b[0m in \u001b[0;36m<module>\u001b[0;34m\u001b[0m\n\u001b[1;32m      1\u001b[0m \u001b[0;34m\u001b[0m\u001b[0m\n\u001b[1;32m      2\u001b[0m \u001b[0;31m#---------Initialize Stocks\u001b[0m\u001b[0;34m\u001b[0m\u001b[0;34m\u001b[0m\u001b[0;34m\u001b[0m\u001b[0m\n\u001b[0;32m----> 3\u001b[0;31m \u001b[0mqb\u001b[0m \u001b[0;34m=\u001b[0m \u001b[0mQuantBook\u001b[0m\u001b[0;34m(\u001b[0m\u001b[0;34m)\u001b[0m\u001b[0;34m\u001b[0m\u001b[0;34m\u001b[0m\u001b[0m\n\u001b[0m\u001b[1;32m      4\u001b[0m \u001b[0mticker_list\u001b[0m \u001b[0;34m=\u001b[0m \u001b[0;34m[\u001b[0m\u001b[0;34m'AAPL'\u001b[0m\u001b[0;34m,\u001b[0m \u001b[0;34m'AMZN'\u001b[0m\u001b[0;34m,\u001b[0m \u001b[0;34m'GOOG'\u001b[0m\u001b[0;34m,\u001b[0m \u001b[0;34m'IBM'\u001b[0m\u001b[0;34m,\u001b[0m \u001b[0;34m'TSLA'\u001b[0m\u001b[0;34m]\u001b[0m\u001b[0;34m\u001b[0m\u001b[0;34m\u001b[0m\u001b[0m\n\u001b[1;32m      5\u001b[0m \u001b[0;34m\u001b[0m\u001b[0m\n",
      "\u001b[0;31mNameError\u001b[0m: name 'QuantBook' is not defined"
     ]
    }
   ],
   "source": [
    "\n",
    "#---------Initialize Stocks\n",
    "qb = QuantBook()\n",
    "ticker_list = ['AAPL', 'AMZN', 'GOOG', 'IBM', 'TSLA']\n",
    "\n",
    "#---------Initialize Time\n",
    "qb = QuantBook()\n",
    "start_time = datetime(2017, 1, 1) # January 1st 2017\n",
    "end_time = datetime.now() # Today's date\n",
    "\n",
    "for stock in ticker_list:\n",
    "    lower = stock.lower()\n",
    "    lower = qb.AddEquity(stock)\n",
    "\n",
    "#---------Initialize Valuation Ratio\n",
    "Valuations = [\"ValuationRatios.PERatio\", \n",
    "              \"IncomeStatement.TotalRevenue.TwelveMonths\",\n",
    "              \"FinancialStatements.IncomeStatement.EBITDA\",\n",
    "             \"BalanceSheet.TotalAssets\",\n",
    "              \"BalanceSheet.TotalDebt\",\n",
    "              \"CashFlowStatement.CapitalExpenditure\",\n",
    "              \"CashFlowStatement.CashFlowFromContinuingOperatingActivities\",\n",
    "              \"FinancialStatements.CashFlowStatement.EndCashPosition.OneMonth\",\n",
    "              \"CashFlowStatement.PurchaseOfPPE\",\n",
    "              \"FinancialStatements.CashFlowStatement.FreeCashFlow.OneMonth\",\n",
    "              \"CashFlowStatement.CapExReported\",\n",
    "              \"OperationRatios.RegressionGrowthOperatingRevenue5Years.OneMonth\",\n",
    "              \"ValuationRatios.EVtoRevenue\"\n",
    "             ]\n",
    "\n",
    "# Get the PE ratio for all securities between given dates\n",
    "# Set it as a dataframe\n",
    "fundamental = qb.GetFundamental(qb.Securities.Keys, \"FinancialStatements.IncomeStatement.EBITDA.ThreeMonths\", start_time, end_time)\n",
    "stocks_list = fundamental.columns\n",
    "\n",
    "\n",
    "def Fundamental(year_start, year_end, equity_list, fundamental):\n",
    "    \n",
    "    #First create a list of years\n",
    "    #Create a list of years to iterate over\n",
    "    Fundamental.list = []\n",
    "\n",
    "    num_of_years = year_end.year - year_start.year\n",
    "    \n",
    "    num_of_months = num_of_years * 12\n",
    "    \n",
    "    for i in range(0,num_of_months):\n",
    "        new_year = year_start + relativedelta(months=1*i)\n",
    "        Fundamental.list.append(new_year)\n",
    "    \n",
    "    #Second get last business day of each month for the list of years in part 1\n",
    "    Fundamental.Monthly=[]\n",
    "    \n",
    "    for elem in Fundamental.list:\n",
    "        offset = BMonthEnd()\n",
    "        Month_End = offset.rollforward(elem)\n",
    "        \n",
    "        Fundamental.Monthly.append(str(Month_End.strftime('%Y-%m-%d')))\n",
    "    \n",
    "    #slice the fundamental dataframe by company and set to list\n",
    "    # use last business day to slice data,\n",
    "    # Function #3 \n",
    "    #initialize index for abritrary name of df (1 through n)\n",
    "    stock_index=0\n",
    "    pe = []\n",
    "    dct = {}\n",
    "    df = pd.DataFrame(columns=[stocks_list],index=Fundamental.Monthly)\n",
    "    error_index = 0\n",
    "    for company in stocks_list:\n",
    "        for elem in Fundamental.Monthly:\n",
    "            try: \n",
    "                df.loc[elem][company]=fundamental[company][elem]\n",
    "                \n",
    "            #go back 1 business day if date in not within index    \n",
    "            except:\n",
    "                #convert string into a datetime object\n",
    "                dt = datetime.strptime(elem, '%Y-%m-%d')\n",
    "                new_dt = dt - BDay(2)\n",
    "                #convert back into string to slice fundamental df\n",
    "                df.loc[elem][company]=fundamental[company][str(new_dt)]\n",
    "    percent_change = df.pct_change(periods=12)\n",
    "    Fundamental.ranked = percent_change[:len(df)].rank(axis=1)\n",
    "    return(Fundamental.ranked)\n",
    "    "
   ]
  },
  {
   "cell_type": "code",
   "execution_count": null,
   "metadata": {},
   "outputs": [],
   "source": [
    "Fundamental(start_time, end_time, stocks_list, fundamental)"
   ]
  },
  {
   "cell_type": "code",
   "execution_count": 3,
   "metadata": {},
   "outputs": [
    {
     "ename": "NameError",
     "evalue": "name 'qb' is not defined",
     "output_type": "error",
     "traceback": [
      "\u001b[0;31m---------------------------------------------------------------------------\u001b[0m",
      "\u001b[0;31mNameError\u001b[0m                                 Traceback (most recent call last)",
      "\u001b[0;32m<ipython-input-3-3ed1661ecde2>\u001b[0m in \u001b[0;36m<module>\u001b[0;34m\u001b[0m\n\u001b[1;32m     27\u001b[0m     \u001b[0;32mreturn\u001b[0m\u001b[0;34m(\u001b[0m\u001b[0mfill_dt\u001b[0m\u001b[0;34m.\u001b[0m\u001b[0mList\u001b[0m\u001b[0;34m)\u001b[0m\u001b[0;34m\u001b[0m\u001b[0;34m\u001b[0m\u001b[0m\n\u001b[1;32m     28\u001b[0m \u001b[0;34m\u001b[0m\u001b[0m\n\u001b[0;32m---> 29\u001b[0;31m \u001b[0mhistory\u001b[0m \u001b[0;34m=\u001b[0m \u001b[0mqb\u001b[0m\u001b[0;34m.\u001b[0m\u001b[0mHistory\u001b[0m\u001b[0;34m(\u001b[0m\u001b[0mqb\u001b[0m\u001b[0;34m.\u001b[0m\u001b[0mSecurities\u001b[0m\u001b[0;34m.\u001b[0m\u001b[0mKeys\u001b[0m\u001b[0;34m,\u001b[0m \u001b[0;36m260\u001b[0m\u001b[0;34m*\u001b[0m\u001b[0;36m5\u001b[0m\u001b[0;34m,\u001b[0m \u001b[0mResolution\u001b[0m\u001b[0;34m.\u001b[0m\u001b[0mDaily\u001b[0m\u001b[0;34m)\u001b[0m\u001b[0;34m\u001b[0m\u001b[0;34m\u001b[0m\u001b[0m\n\u001b[0m\u001b[1;32m     30\u001b[0m \u001b[0;34m\u001b[0m\u001b[0m\n\u001b[1;32m     31\u001b[0m \u001b[0;34m\u001b[0m\u001b[0m\n",
      "\u001b[0;31mNameError\u001b[0m: name 'qb' is not defined"
     ]
    }
   ],
   "source": [
    "# this function checks if datetime in datetime string\n",
    "def fill_dt(datetime_string):\n",
    "    dt =  datetime.strptime(datetime_string, '%Y-%m-%d')\n",
    "    dti = history.loc[\"AMZN R735QTJ8XC9X\",[]].index.to_series()\n",
    "    fill_dt.List = 0\n",
    "    print(fill_dt.List)\n",
    "    if dt in dti:\n",
    "        fill_dt.List = dt\n",
    "        print(\"dt List is = \" + str(fill_dt.List)) \n",
    "        return(fill_dt.List) \n",
    "        \n",
    "    else:\n",
    "        dt2 = dt - BDay(1)\n",
    "        print(\"EXCEPTION at \" + str(dt))\n",
    "        if dt2 in dti:\n",
    "            fill_dt.List = dt2\n",
    "            print(\"dt List is = \" + str(fill_dt.List)) \n",
    "            return(fill_dt.List) \n",
    "           \n",
    "        else:\n",
    "            dt3 = dt - BDay(2)\n",
    "            print(\"EXCEPTION2 at \" + str(dt2))\n",
    "            if dt3 in dti:\n",
    "                fill_dt.List = dt3\n",
    "                print(dt3)\n",
    "    print(\"dt List is = \" + str(fill_dt.List))            \n",
    "    return(fill_dt.List)           \n",
    "                \n",
    "history = qb.History(qb.Securities.Keys, 260*5, Resolution.Daily)\n",
    "    \n",
    "\n",
    "empty_list = []\n",
    "for security in qb.Securities.Keys:\n",
    "    for elem in Fundamental.Monthly:\n",
    "        string = str(security)\n",
    "        fill_dt(elem)\n",
    "        print(security)\n",
    "        print(history.loc[security, fill_dt.List]['close'])\n",
    "        empty_list.append(history.loc[security, fill_dt.List]['close'])\n",
    "        \n",
    "string = pd.Series(data=empty_list, index=Fundamental.Monthly)"
   ]
  },
  {
   "cell_type": "code",
   "execution_count": 4,
   "metadata": {},
   "outputs": [
    {
     "name": "stdout",
     "output_type": "stream",
     "text": [
      "/Users/CRC\r\n"
     ]
    }
   ],
   "source": [
    "!pwd"
   ]
  },
  {
   "cell_type": "code",
   "execution_count": 6,
   "metadata": {},
   "outputs": [
    {
     "name": "stdout",
     "output_type": "stream",
     "text": [
      "\u001b[34mAdobe Acrobat XI Pro\u001b[m\u001b[m \u001b[34mLibrary\u001b[m\u001b[m              composer-setup.php\r\n",
      "\u001b[34mApplications\u001b[m\u001b[m         \u001b[34mLinear Regression\u001b[m\u001b[m    composer.json\r\n",
      "\u001b[34mDesktop\u001b[m\u001b[m              \u001b[34mMovies\u001b[m\u001b[m               composer.lock\r\n",
      "\u001b[34mDeveloper\u001b[m\u001b[m            \u001b[34mMusic\u001b[m\u001b[m                composer.phar\r\n",
      "\u001b[34mDocuments\u001b[m\u001b[m            \u001b[34mPictures\u001b[m\u001b[m             \u001b[34mopt\u001b[m\u001b[m\r\n",
      "\u001b[34mDownloads\u001b[m\u001b[m            \u001b[34mPublic\u001b[m\u001b[m               sda-0.log.0\r\n",
      "\u001b[34mDropbox\u001b[m\u001b[m              algo_03_05_22.ipynb  vendor\r\n",
      "\u001b[34mHomeSafe View\u001b[m\u001b[m        \u001b[34manaconda3\u001b[m\u001b[m\r\n"
     ]
    }
   ],
   "source": [
    "!ls $pwd"
   ]
  },
  {
   "cell_type": "code",
   "execution_count": null,
   "metadata": {},
   "outputs": [],
   "source": []
  }
 ],
 "metadata": {
  "kernelspec": {
   "display_name": "Python 3",
   "language": "python",
   "name": "python3"
  },
  "language_info": {
   "codemirror_mode": {
    "name": "ipython",
    "version": 3
   },
   "file_extension": ".py",
   "mimetype": "text/x-python",
   "name": "python",
   "nbconvert_exporter": "python",
   "pygments_lexer": "ipython3",
   "version": "3.7.1"
  }
 },
 "nbformat": 4,
 "nbformat_minor": 2
}
